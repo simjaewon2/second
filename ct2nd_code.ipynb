{
  "nbformat": 4,
  "nbformat_minor": 0,
  "metadata": {
    "colab": {
      "provenance": [],
      "include_colab_link": true
    },
    "kernelspec": {
      "name": "python3",
      "display_name": "Python 3"
    },
    "language_info": {
      "name": "python"
    }
  },
  "cells": [
    {
      "cell_type": "markdown",
      "metadata": {
        "id": "view-in-github",
        "colab_type": "text"
      },
      "source": [
        "<a href=\"https://colab.research.google.com/github/simjaewon2/second/blob/main/ct2nd_code.ipynb\" target=\"_parent\"><img src=\"https://colab.research.google.com/assets/colab-badge.svg\" alt=\"Open In Colab\"/></a>"
      ]
    },
    {
      "cell_type": "markdown",
      "source": [
        "2번째 코딩\n",
        " - 사용자로부터 3개의 값을 받아서 합을 내고.\n",
        " 평균을 출력하는 코드"
      ],
      "metadata": {
        "id": "A8X8mrhoKZ1K"
      }
    },
    {
      "cell_type": "code",
      "execution_count": null,
      "metadata": {
        "colab": {
          "base_uri": "https://localhost:8080/"
        },
        "id": "3CTEleKKGbzZ",
        "outputId": "b8fe0816-d767-4a7e-d27c-e357b40e5a51"
      },
      "outputs": [
        {
          "output_type": "stream",
          "name": "stdout",
          "text": [
            "N1의 값을 입력하시오.:40\n",
            "N2의 값을 입력하시오.:50\n",
            "N3의 값을 입력하시오.:60\n",
            "50.0\n"
          ]
        }
      ],
      "source": [
        "n1 = int(input(\"N1의 값을 입력하시오.:\"))   # 사용자로부터 N1의 값을 입력받아 정수로 변환하여 저장\n",
        "n2 = int(input(\"N2의 값을 입력하시오.:\"))   # 사용자로부터 N2의 값을 입력받아 정수로 변환하여 저장\n",
        "n3 = int(input(\"N3의 값을 입력하시오.:\"))   # 사용자로부터 N3의 값을 입력받아 정수로 변환하여 저장\n",
        "total = n1 + n2 + n3                        # 세 개의 값을 합산하여 총합 계산\n",
        "average = total / 3                         # 총합을 3으로 나누어 평균 계산\n",
        "print(average)                              # 평균 출력\n"
      ]
    }
  ]
}