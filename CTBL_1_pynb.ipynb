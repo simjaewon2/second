{
  "nbformat": 4,
  "nbformat_minor": 0,
  "metadata": {
    "colab": {
      "provenance": [],
      "authorship_tag": "ABX9TyMj3DGU2ysW6Mv9E5PTd9q4",
      "include_colab_link": true
    },
    "kernelspec": {
      "name": "python3",
      "display_name": "Python 3"
    },
    "language_info": {
      "name": "python"
    }
  },
  "cells": [
    {
      "cell_type": "markdown",
      "metadata": {
        "id": "view-in-github",
        "colab_type": "text"
      },
      "source": [
        "<a href=\"https://colab.research.google.com/github/simjaewon2/second/blob/main/CTBL_1_pynb.ipynb\" target=\"_parent\"><img src=\"https://colab.research.google.com/assets/colab-badge.svg\" alt=\"Open In Colab\"/></a>"
      ]
    },
    {
      "cell_type": "markdown",
      "source": [
        "1. 학생으로부터 성적을 입력하여 합격유무를 출력하는 코드작성\n",
        " - 사용변수 grade\n",
        " - 사용 수식 grade >= 70"
      ],
      "metadata": {
        "id": "MUbERJJ409AB"
      }
    },
    {
      "cell_type": "code",
      "execution_count": 2,
      "metadata": {
        "colab": {
          "base_uri": "https://localhost:8080/"
        },
        "id": "8RbgNsGa08CQ",
        "outputId": "37e9b86a-c1a5-4df6-e41b-37a435687e2e"
      },
      "outputs": [
        {
          "output_type": "stream",
          "name": "stdout",
          "text": [
            "성적입력 : 75\n",
            "70점 이상으로 합격\n"
          ]
        }
      ],
      "source": [
        "grade = int(input(\"성적입력 : \"))   # 사용자로부터 성적을 입력받아 정수로 변환하여 grade에 저장\n",
        "if grade >= 70 :                    # 입력받은 성적이 70 이상인 경우\n",
        "   print(\"70점 이상으로 합격\")      # 합격 메시지 출력\n",
        "else:                               # 입력받은 성적이 70 미만인 경우\n",
        "  print(\"70점 이하는 불합격\")       # 불합격 메시지 출력"
      ]
    },
    {
      "cell_type": "markdown",
      "source": [
        "2. 쇼핑몰의 배송료를 계산하는 코드작성\n",
        " - 변수명 : price, shipping_cost\n",
        " - 수식 :  price >= 20000"
      ],
      "metadata": {
        "id": "_fDXxEOV3sri"
      }
    },
    {
      "cell_type": "code",
      "source": [
        "price = int(input(\"구입금액 입력 : \"))                            # 사용자로부터 구입금액을 입력받아 정수로 변환하여 price에 저장\n",
        "if price >= 20000:                                                # 입력받은 구입금액이 2만원 이상인 경우\n",
        "  shipping_cost = 0                                               # 배송료는 0원\n",
        "  print(\"구입금액이 (price)로 이상입니다.\")                       # 구입금액이 2만원 이상임을 출력\n",
        "else:                                                             # 입력받은 구입금액이 2만원 미만인 경우\n",
        "  shipping_cost = 3000                                            # 배송료는 3000원\n",
        "print(\"구입금액이 2만원 이하입니다.\")                             # 구입금액이 2만원 이하임을 출력\n",
        "print(\"회원님의 배송료는\", shipping_cost, \"입니다.\")              # 배송료 출력"
      ],
      "metadata": {
        "colab": {
          "base_uri": "https://localhost:8080/"
        },
        "id": "NX6jicts428z",
        "outputId": "987f2270-c5fc-445e-9f10-4b20b5a90aa5"
      },
      "execution_count": 6,
      "outputs": [
        {
          "output_type": "stream",
          "name": "stdout",
          "text": [
            "구입금액 입력 : 30000\n",
            "구입금액이 (price)로 이상입니다.\n",
            "구입금액이 2만원 이하입니다.\n",
            "회원님의 배송료는 0 입니다.\n"
          ]
        }
      ]
    },
    {
      "cell_type": "markdown",
      "source": [
        "4. 근무시간에 따라 초과근무와 정상근무를 판별하는 코드작성\n",
        " - 변수 : work_hour\n",
        " - 수식 : >> 기준시간 : 72시간"
      ],
      "metadata": {
        "id": "_QBEwGc7755V"
      }
    },
    {
      "cell_type": "code",
      "source": [
        "work_hour = int(input(\"근무시간 입력 : \"))          # 사용자로부터 근무시간을 입력받아 정수로 변환하여 work_hour에 저장\n",
        "if work_hour >= 72:                                 # 입력받은 근무시간이 72 이상인 경우\n",
        "  print(\"초과근무 하였습니다.\")                     # 초과근무 메시지 출력\n",
        "else:                                               # 입력받은 근무시간이 72 미만인 경우\n",
        "  print(\"정상근무하였습니다.\")                      # 정상근무 메시지 출력"
      ],
      "metadata": {
        "colab": {
          "base_uri": "https://localhost:8080/"
        },
        "id": "r_4Isl_479VF",
        "outputId": "c19201a2-d5cf-4cd5-90a2-be9cd6b6ec9c"
      },
      "execution_count": 15,
      "outputs": [
        {
          "output_type": "stream",
          "name": "stdout",
          "text": [
            "근무시간 입력 : 75\n",
            "초과근무 하였습니다.\n"
          ]
        }
      ]
    },
    {
      "cell_type": "markdown",
      "source": [
        "5. 정수를 입력받아서 짝수인지 홀수인지 판별하는 코드 작성\n",
        " - 변수 : num\n",
        " - 수식 : (num & 2)=0:"
      ],
      "metadata": {
        "id": "IL_Gn_Ze-Cm3"
      }
    },
    {
      "cell_type": "code",
      "source": [
        "num = int(input(\"정수를 입력하시오: \"))        # 사용자로부터 정수를 입력받아 정수로 변환하여 num에 저장\n",
        "if num % 2 == 0:                               # 입력받은 정수가 2로 나누어 떨어지는 경우 (짝수인 경우)\n",
        "  print(\"홀수입니다. \")                        # 홀수 메시지 출력\n",
        "else:                                          # 입력받은 정수가 2로 나누어 떨어지지 않는 경우 (홀수인 경우)\n",
        "  print(\"짝수입니다. \")                        # 짝수 메시지 출력"
      ],
      "metadata": {
        "colab": {
          "base_uri": "https://localhost:8080/"
        },
        "id": "255fVoEf-IcG",
        "outputId": "c6a74fce-d236-4e02-bf07-f6444ad26bdd"
      },
      "execution_count": 17,
      "outputs": [
        {
          "output_type": "stream",
          "name": "stdout",
          "text": [
            "정수를 입력하시오: 3\n",
            "짝수입니다. \n"
          ]
        }
      ]
    },
    {
      "cell_type": "markdown",
      "source": [
        "5. 사용자의 이름과 나이를 입력받고 답변하는 코드작성\n",
        " - 입력 : 성명 - name\n",
        " - 입력 : 나이 - age\n",
        " - 수식 : if age <= 20:\n",
        " 최종 출력문\n",
        "  - 이름을 입력하시오 : ***\n",
        "  - 나이를 입력하시오 : **\n",
        "  - (1) 프로그램을 배우는 최적의 나이입니다.\n",
        "  - (2) 아직도 늦지 않았습니다. 도전정신\n",
        "  "
      ],
      "metadata": {
        "id": "KqS0X5OSAk7Z"
      }
    },
    {
      "cell_type": "code",
      "source": [
        "name = input(\"이름을 입력하시오. \")                  # 사용자로부터 이름을 입력받아 name에 저장\n",
        "age = int(input(\"나이를 입력하시오 :\"))              # 사용자로부터 나이를 입력받아 정수로 변환하여 age에 저장\n",
        "if age <= 20:                                        # 입력받은 나이가 20 이하인 경우\n",
        " print(\"프로그램을 배우는 최적의 나이입니다. \")      # 최적의 나이 메시지 출력\n",
        "else:                                                # 입력받은 나이가 20 초과인 경우\n",
        " print(\"아직도 늦지 않았습니다. 도전 정신 \")         # 도전정신 메시지 출력"
      ],
      "metadata": {
        "colab": {
          "base_uri": "https://localhost:8080/"
        },
        "id": "c7RY_DYTBXHq",
        "outputId": "f775585d-12e2-4299-b92b-1f4b3d7cfff5"
      },
      "execution_count": null,
      "outputs": [
        {
          "output_type": "stream",
          "name": "stdout",
          "text": [
            "이름을 입력하시오. 1\n",
            "나이를 입력하시오 :3\n",
            "프로그램을 배우는 최적의 나이입니다. \n"
          ]
        }
      ]
    },
    {
      "cell_type": "code",
      "source": [],
      "metadata": {
        "id": "0dtmAuuuDVk7"
      },
      "execution_count": null,
      "outputs": []
    }
  ]
}