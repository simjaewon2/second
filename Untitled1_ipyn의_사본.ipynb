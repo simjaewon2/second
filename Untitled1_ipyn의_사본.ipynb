{
  "nbformat": 4,
  "nbformat_minor": 0,
  "metadata": {
    "colab": {
      "provenance": [],
      "include_colab_link": true
    },
    "kernelspec": {
      "name": "python3",
      "display_name": "Python 3"
    },
    "language_info": {
      "name": "python"
    }
  },
  "cells": [
    {
      "cell_type": "markdown",
      "metadata": {
        "id": "view-in-github",
        "colab_type": "text"
      },
      "source": [
        "<a href=\"https://colab.research.google.com/github/simjaewon2/second/blob/main/Untitled1_ipyn%EC%9D%98_%EC%82%AC%EB%B3%B8.ipynb\" target=\"_parent\"><img src=\"https://colab.research.google.com/assets/colab-badge.svg\" alt=\"Open In Colab\"/></a>"
      ]
    },
    {
      "cell_type": "markdown",
      "source": [
        "사용자로부터 세개의 값 x,y,z를 입력받아서 1씩 각각 1씩 증가하도록 출력되는"
      ],
      "metadata": {
        "id": "g9kRctmuG4hY"
      }
    },
    {
      "cell_type": "code",
      "execution_count": null,
      "metadata": {
        "colab": {
          "base_uri": "https://localhost:8080/"
        },
        "id": "2bA7t38yG4IN",
        "outputId": "43a0a21b-d765-4dfa-f7d5-2f9d9fde2d8e"
      },
      "outputs": [
        {
          "output_type": "stream",
          "name": "stdout",
          "text": [
            "x의 값을 입력하시오.1\n",
            "y의 값을 입력하시오.2\n",
            "z의 값을 입력하시오.3\n",
            "x의 값은 (x)이며 y의 값은 (y)이고, z의 값은 (z)이다. \n"
          ]
        }
      ],
      "source": [
        "# 사용자로부터 세 개의 값을 입력받아서 1씩 증가하도록 출력하는 코드입니다.\n",
        "x = int(input(\"x의 값을 입력하시오.\"))    # x 입력 받기\n",
        "y = int(input(\"y의 값을 입력하시오.\"))    # y 입력 받기\n",
        "z = int(input(\"z의 값을 입력하시오.\"))    # z 입력 받기\n",
        "x = x + 1  # x에 1을 더합니다.\n",
        "y = y + 1  # y에 1을 더합니다.\n",
        "z = z + 1  # z에 1을 더합니다.\n",
        "print('x의 값은 (x)이며 y의 값은 (y)이고, z의 값은 (z)이다. ')  # 결과 출력"
      ]
    },
    {
      "cell_type": "markdown",
      "source": [
        "2. 알바생의 시급과 시간을 계산하여 월급을 출력하는 코드"
      ],
      "metadata": {
        "id": "h5RQyCyiJMle"
      }
    },
    {
      "cell_type": "code",
      "source": [
        "# 알바생의 시급과 시간을 계산하여 월급을 출력하는 코드입니다.\n",
        "hour_woker = int(input('일한 시간을 입력하시오.'))  # 일한 시간 입력 받기\n",
        "pay_rate = int(input('시급을 입력하시오 (23기준 9620원): ')) # 시급 입력 받기\n",
        "monthly_pay = hours_worked + pay_rate # 월급 계산\n",
        "print('일한시간은 (hours_worked)이고, 시급은 (pay_rate)이며, (monthly_pay)입니다. ')  # 결과 출력\n"
      ],
      "metadata": {
        "id": "c7alch1aJcK_"
      },
      "execution_count": null,
      "outputs": []
    },
    {
      "cell_type": "markdown",
      "source": [
        "3. 환율 계산하는 코드를 작성\n",
        " - 원의변수는 won\n",
        " - 달러의 변수는 usd\n",
        " - 환전의 변수는 money exchange"
      ],
      "metadata": {
        "id": "eKf_L8iiLpTA"
      }
    },
    {
      "cell_type": "code",
      "source": [
        "# 환율 계산하는 코드를 작성합니다.\n",
        "won = int(input(\"환전할 금액을 입력(kor)\")) # 환전할 금액 입력 받기\n",
        "usd = int(input(\"현재 달러의 환율을 입력(231031, 1372)\")) # 달러 환율 입력 받기\n",
        "exchange = won * usd  # 환전 금액 계산\n",
        "print(\"환전 금액은 (won)이며, 금액은 (usd)이며, 환전금액은(exchange)이다. \") # 결과 출력\n"
      ],
      "metadata": {
        "id": "FT_Z_BwxL5uG"
      },
      "execution_count": null,
      "outputs": []
    },
    {
      "cell_type": "markdown",
      "source": [
        "4. 화씨(fahrenheit)를 섭씨(celsius)로 변환하는 코드작성"
      ],
      "metadata": {
        "id": "u5SKeTIxN7yA"
      }
    },
    {
      "cell_type": "code",
      "source": [
        "# 화씨(fahrenheit)를 섭씨(celsius)로 변환하는 코드 작성입니다.\n",
        "fahrenheit = int(input('화씨 온도를 입력하시오.')) # 화씨 온도 입력 받기\n",
        "celsius = (fahrenheit-32) / 1.8  # 섭씨 온도 계산\n",
        "print('화씨온도는 (fahrenheit), 섭씨 (celsius)도 입니다.')  # 결과 출력\n"
      ],
      "metadata": {
        "id": "4gPbxC_uOVHG"
      },
      "execution_count": null,
      "outputs": []
    },
    {
      "cell_type": "code",
      "source": [
        "# 섭씨(celsius)를 화씨(fahrenheit)로 변환하는 코드 작성입니다.\n",
        "celsius = int(input('섭씨 온도를 입력하시오.'))  # 섭씨 온도 입력 받기\n",
        "fahrenheit = (celsius * 1.8) + 32   # 화씨 온도 계산\n",
        "print('섭씨온도는 (celsius), 화씨 (fahrenheit)도 입니다.') # 결과 출력"
      ],
      "metadata": {
        "id": "Yz-wfxQBRGRP"
      },
      "execution_count": null,
      "outputs": []
    },
    {
      "cell_type": "markdown",
      "source": [
        "사용자로부터 2개의 정수를 받아서 합계를 출력"
      ],
      "metadata": {
        "id": "IpgOLnAfV1Ne"
      }
    },
    {
      "cell_type": "code",
      "source": [
        "# 사용자로부터 2개의 정수를 받아서 합계를 출력하는 코드입니다.\n",
        "x = int(input(\"x의 값을 입력하시오. \"))  # x 입력 받기\n",
        "y = int(input(\"y의 값을 입력하시오. \"))  # y 입력 받기\n",
        "sum = x + y # 합계 계산\n",
        "print(sum) # 결과 출력"
      ],
      "metadata": {
        "colab": {
          "base_uri": "https://localhost:8080/"
        },
        "id": "0E7ecZzXWHP9",
        "outputId": "71b0c2e0-1516-42e6-c993-56d00ae24095"
      },
      "execution_count": null,
      "outputs": [
        {
          "output_type": "stream",
          "name": "stdout",
          "text": [
            "x의 값을 입력하시오. 1\n",
            "y의 값을 입력하시오. 2\n",
            "3\n"
          ]
        }
      ]
    },
    {
      "cell_type": "markdown",
      "source": [
        "상품의 가격을 입력하시오"
      ],
      "metadata": {
        "id": "gyBr60X0XDc1"
      }
    },
    {
      "cell_type": "code",
      "source": [
        "# 상품의 가격을 입력받아 부가가치세를 계산하는 코드입니다.\n",
        "print = int(input(\"상품의 가격을 입력하시오. \"))  # 상품 가격 입력 받기\n",
        "vat = price * 0.1  # 부가가치세 계산\n",
        "print(vat) # 결과 출력"
      ],
      "metadata": {
        "colab": {
          "base_uri": "https://localhost:8080/",
          "height": 276
        },
        "id": "c5kBVULLXH8u",
        "outputId": "1ae24a3a-c2bf-430c-e321-4a61677ba6e3"
      },
      "execution_count": null,
      "outputs": [
        {
          "name": "stdout",
          "output_type": "stream",
          "text": [
            "상품의 가격을 입력하시오. 1\n",
            "price10\n"
          ]
        },
        {
          "output_type": "error",
          "ename": "NameError",
          "evalue": "ignored",
          "traceback": [
            "\u001b[0;31m---------------------------------------------------------------------------\u001b[0m",
            "\u001b[0;31mNameError\u001b[0m                                 Traceback (most recent call last)",
            "\u001b[0;32m<ipython-input-10-c851231b62b9>\u001b[0m in \u001b[0;36m<cell line: 3>\u001b[0;34m()\u001b[0m\n\u001b[1;32m      1\u001b[0m \u001b[0mint\u001b[0m\u001b[0;34m(\u001b[0m\u001b[0minput\u001b[0m\u001b[0;34m(\u001b[0m\u001b[0;34m\"상품의 가격을 입력하시오. \"\u001b[0m\u001b[0;34m)\u001b[0m\u001b[0;34m)\u001b[0m\u001b[0;34m\u001b[0m\u001b[0;34m\u001b[0m\u001b[0m\n\u001b[1;32m      2\u001b[0m \u001b[0mint\u001b[0m\u001b[0;34m(\u001b[0m\u001b[0minput\u001b[0m\u001b[0;34m(\u001b[0m\u001b[0;34m\"price\"\u001b[0m\u001b[0;34m)\u001b[0m\u001b[0;34m)\u001b[0m\u001b[0;34m\u001b[0m\u001b[0;34m\u001b[0m\u001b[0m\n\u001b[0;32m----> 3\u001b[0;31m \u001b[0mvat\u001b[0m \u001b[0;34m=\u001b[0m \u001b[0mprice\u001b[0m \u001b[0;34m+\u001b[0m \u001b[0;36m0.1\u001b[0m\u001b[0;34m\u001b[0m\u001b[0;34m\u001b[0m\u001b[0m\n\u001b[0m\u001b[1;32m      4\u001b[0m \u001b[0mprint\u001b[0m\u001b[0;34m(\u001b[0m\u001b[0mvat\u001b[0m\u001b[0;34m)\u001b[0m\u001b[0;34m\u001b[0m\u001b[0;34m\u001b[0m\u001b[0m\n",
            "\u001b[0;31mNameError\u001b[0m: name 'price' is not defined"
          ]
        }
      ]
    }
  ]
}